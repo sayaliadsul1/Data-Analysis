{
 "cells": [
  {
   "cell_type": "code",
   "execution_count": 1,
   "id": "acf3203d",
   "metadata": {},
   "outputs": [],
   "source": [
    "import numpy as np"
   ]
  },
  {
   "cell_type": "code",
   "execution_count": 3,
   "id": "7a774fea",
   "metadata": {},
   "outputs": [
    {
     "data": {
      "text/plain": [
       "array([2, 3, 4, 5, 6, 7])"
      ]
     },
     "execution_count": 3,
     "metadata": {},
     "output_type": "execute_result"
    }
   ],
   "source": [
    "s=np.array([2,3,4,5,6,7])\n",
    "s"
   ]
  },
  {
   "cell_type": "code",
   "execution_count": 4,
   "id": "86da8d4c",
   "metadata": {},
   "outputs": [
    {
     "name": "stdout",
     "output_type": "stream",
     "text": [
      "<class 'numpy.ndarray'>\n"
     ]
    }
   ],
   "source": [
    "print(type(s))"
   ]
  },
  {
   "cell_type": "code",
   "execution_count": 5,
   "id": "8ccfd7f6",
   "metadata": {},
   "outputs": [
    {
     "name": "stdout",
     "output_type": "stream",
     "text": [
      "int32\n"
     ]
    }
   ],
   "source": [
    "print(s.dtype)"
   ]
  },
  {
   "cell_type": "code",
   "execution_count": 6,
   "id": "4c633da1",
   "metadata": {},
   "outputs": [
    {
     "name": "stdout",
     "output_type": "stream",
     "text": [
      "float64\n"
     ]
    }
   ],
   "source": [
    "s1=np.array([2.3,4.5,6.8,9.8,7.5])\n",
    "print(s1.dtype)"
   ]
  },
  {
   "cell_type": "code",
   "execution_count": 8,
   "id": "7a7b2f15",
   "metadata": {},
   "outputs": [
    {
     "name": "stdout",
     "output_type": "stream",
     "text": [
      "0\n"
     ]
    }
   ],
   "source": [
    "a=np.array(5)                    # zero dimension array\n",
    "print(a.ndim)"
   ]
  },
  {
   "cell_type": "code",
   "execution_count": 9,
   "id": "83d9ec50",
   "metadata": {},
   "outputs": [
    {
     "name": "stdout",
     "output_type": "stream",
     "text": [
      "0\n"
     ]
    }
   ],
   "source": [
    "a=np.array(6)\n",
    "print(a.ndim)"
   ]
  },
  {
   "cell_type": "code",
   "execution_count": 16,
   "id": "00580291",
   "metadata": {},
   "outputs": [
    {
     "name": "stdout",
     "output_type": "stream",
     "text": [
      "1\n",
      "(6,)\n"
     ]
    }
   ],
   "source": [
    "a1=np.array([2,3,4,5,6,7])               # one dimension arreay\n",
    "print(a1.ndim)\n",
    "print(a1.shape)"
   ]
  },
  {
   "cell_type": "code",
   "execution_count": 12,
   "id": "54ae0a73",
   "metadata": {},
   "outputs": [
    {
     "name": "stdout",
     "output_type": "stream",
     "text": [
      "1\n"
     ]
    }
   ],
   "source": [
    "b=np.array([1.2,4.5,7.8,9.5,6.3])\n",
    "print(b.ndim)"
   ]
  },
  {
   "cell_type": "code",
   "execution_count": 17,
   "id": "97cdf53a",
   "metadata": {},
   "outputs": [
    {
     "name": "stdout",
     "output_type": "stream",
     "text": [
      "2\n",
      "(1, 7)\n"
     ]
    }
   ],
   "source": [
    "a2=np.array([[1,2,3,4,5,6,7]])            # two dimension array\n",
    "print(a2.ndim)\n",
    "print(a2.shape)"
   ]
  },
  {
   "cell_type": "code",
   "execution_count": 18,
   "id": "04cb7d58",
   "metadata": {},
   "outputs": [
    {
     "name": "stdout",
     "output_type": "stream",
     "text": [
      "2\n",
      "(1, 5)\n"
     ]
    }
   ],
   "source": [
    "c=np.array([[1.2,2.3,4.5,6.5,7.8]])\n",
    "print(c.ndim)\n",
    "print(c.shape)"
   ]
  },
  {
   "cell_type": "code",
   "execution_count": 20,
   "id": "94b17f52",
   "metadata": {},
   "outputs": [
    {
     "name": "stdout",
     "output_type": "stream",
     "text": [
      "3\n",
      "(1, 3, 3)\n"
     ]
    }
   ],
   "source": [
    "a3=np.array([[[1,2,3],[4,5,6],[7,8,9]]])           # 3 dimension array\n",
    "print(a3.ndim)\n",
    "print(a3.shape)"
   ]
  },
  {
   "cell_type": "code",
   "execution_count": 21,
   "id": "4ca7030a",
   "metadata": {},
   "outputs": [
    {
     "name": "stdout",
     "output_type": "stream",
     "text": [
      "[[[1 1 1]\n",
      "  [2 2 2]\n",
      "  [3 3 3]\n",
      "  [4 4 4]]\n",
      "\n",
      " [[5 5 5]\n",
      "  [6 6 6]\n",
      "  [7 7 7]\n",
      "  [8 8 8]]]\n"
     ]
    }
   ],
   "source": [
    "d=np.array([[[1,1,1],[2,2,2],[3,3,3],[4,4,4]],[[5,5,5],[6,6,6],[7,7,7],[8,8,8]]])\n",
    "print(d)"
   ]
  },
  {
   "cell_type": "code",
   "execution_count": 22,
   "id": "7bdcbcb1",
   "metadata": {},
   "outputs": [
    {
     "name": "stdout",
     "output_type": "stream",
     "text": [
      "3\n"
     ]
    }
   ],
   "source": [
    "print(d.ndim)"
   ]
  },
  {
   "cell_type": "code",
   "execution_count": 23,
   "id": "3bd5fef2",
   "metadata": {},
   "outputs": [
    {
     "name": "stdout",
     "output_type": "stream",
     "text": [
      "(2, 4, 3)\n"
     ]
    }
   ],
   "source": [
    "print(d.shape)"
   ]
  },
  {
   "cell_type": "code",
   "execution_count": 24,
   "id": "08c1f030",
   "metadata": {},
   "outputs": [
    {
     "data": {
      "text/plain": [
       "array([[[[1, 2, 3],\n",
       "         [4, 5, 6],\n",
       "         [7, 8, 9]]]])"
      ]
     },
     "execution_count": 24,
     "metadata": {},
     "output_type": "execute_result"
    }
   ],
   "source": [
    "a4=np.array([[[[1,2,3],[4,5,6],[7,8,9]]]])\n",
    "a4"
   ]
  },
  {
   "cell_type": "code",
   "execution_count": 25,
   "id": "c98d2a98",
   "metadata": {},
   "outputs": [
    {
     "name": "stdout",
     "output_type": "stream",
     "text": [
      "4\n"
     ]
    }
   ],
   "source": [
    "print(a4.ndim)"
   ]
  },
  {
   "cell_type": "code",
   "execution_count": 26,
   "id": "02a550b4",
   "metadata": {},
   "outputs": [
    {
     "name": "stdout",
     "output_type": "stream",
     "text": [
      "(1, 1, 3, 3)\n"
     ]
    }
   ],
   "source": [
    "print(a4.shape)"
   ]
  },
  {
   "cell_type": "code",
   "execution_count": 27,
   "id": "be322c3c",
   "metadata": {},
   "outputs": [],
   "source": [
    "x=np.array([[[[1,1,1],[2,2,2],[3,3,3]],[[4,4,4],[5,5,5],[6,6,6]]]])"
   ]
  },
  {
   "cell_type": "code",
   "execution_count": 28,
   "id": "ac8a54bf",
   "metadata": {},
   "outputs": [
    {
     "data": {
      "text/plain": [
       "array([[[[1, 1, 1],\n",
       "         [2, 2, 2],\n",
       "         [3, 3, 3]],\n",
       "\n",
       "        [[4, 4, 4],\n",
       "         [5, 5, 5],\n",
       "         [6, 6, 6]]]])"
      ]
     },
     "execution_count": 28,
     "metadata": {},
     "output_type": "execute_result"
    }
   ],
   "source": [
    "x"
   ]
  },
  {
   "cell_type": "code",
   "execution_count": 29,
   "id": "5e2d2e02",
   "metadata": {},
   "outputs": [
    {
     "name": "stdout",
     "output_type": "stream",
     "text": [
      "4\n",
      "(1, 2, 3, 3)\n"
     ]
    }
   ],
   "source": [
    "print(x.ndim)\n",
    "print(x.shape)"
   ]
  },
  {
   "cell_type": "code",
   "execution_count": 30,
   "id": "81e4367b",
   "metadata": {},
   "outputs": [],
   "source": [
    "# concatenate"
   ]
  },
  {
   "cell_type": "code",
   "execution_count": 33,
   "id": "b01d0e65",
   "metadata": {},
   "outputs": [
    {
     "data": {
      "text/plain": [
       "array([ 1,  2,  3,  4,  5,  7,  8,  9, 10, 11])"
      ]
     },
     "execution_count": 33,
     "metadata": {},
     "output_type": "execute_result"
    }
   ],
   "source": [
    "arr1=np.array([1,2,3,4,5])\n",
    "arr2=np.array([7,8,9,10,11])\n",
    "a=np.concatenate((arr1,arr2))\n",
    "a"
   ]
  },
  {
   "cell_type": "code",
   "execution_count": 44,
   "id": "b77c8cab",
   "metadata": {},
   "outputs": [],
   "source": [
    "# reshape"
   ]
  },
  {
   "cell_type": "code",
   "execution_count": 37,
   "id": "01bc2783",
   "metadata": {},
   "outputs": [
    {
     "data": {
      "text/plain": [
       "array([[11],\n",
       "       [22],\n",
       "       [33],\n",
       "       [44],\n",
       "       [55],\n",
       "       [66],\n",
       "       [77]])"
      ]
     },
     "execution_count": 37,
     "metadata": {},
     "output_type": "execute_result"
    }
   ],
   "source": [
    "s=np.array([11,22,33,44,55,66,77])\n",
    "s.reshape(7,1)"
   ]
  },
  {
   "cell_type": "code",
   "execution_count": 39,
   "id": "aead8eea",
   "metadata": {},
   "outputs": [
    {
     "data": {
      "text/plain": [
       "array([[11, 22, 33, 44],\n",
       "       [55, 66, 77, 88]])"
      ]
     },
     "execution_count": 39,
     "metadata": {},
     "output_type": "execute_result"
    }
   ],
   "source": [
    "s1=np.array([11,22,33,44,55,66,77,88])\n",
    "s1.reshape(2,4)\n"
   ]
  },
  {
   "cell_type": "code",
   "execution_count": 40,
   "id": "4b3ab7ac",
   "metadata": {},
   "outputs": [
    {
     "data": {
      "text/plain": [
       "array([[11, 22],\n",
       "       [33, 44],\n",
       "       [55, 66],\n",
       "       [77, 88]])"
      ]
     },
     "execution_count": 40,
     "metadata": {},
     "output_type": "execute_result"
    }
   ],
   "source": [
    "s1.reshape(4,2)"
   ]
  },
  {
   "cell_type": "code",
   "execution_count": 42,
   "id": "7fa41c42",
   "metadata": {},
   "outputs": [
    {
     "data": {
      "text/plain": [
       "array([[11, 22, 33, 44, 55, 66, 77, 88]])"
      ]
     },
     "execution_count": 42,
     "metadata": {},
     "output_type": "execute_result"
    }
   ],
   "source": [
    "s1.reshape(1,8)"
   ]
  },
  {
   "cell_type": "code",
   "execution_count": 43,
   "id": "d1cb4824",
   "metadata": {},
   "outputs": [
    {
     "data": {
      "text/plain": [
       "array([[11],\n",
       "       [22],\n",
       "       [33],\n",
       "       [44],\n",
       "       [55],\n",
       "       [66],\n",
       "       [77],\n",
       "       [88]])"
      ]
     },
     "execution_count": 43,
     "metadata": {},
     "output_type": "execute_result"
    }
   ],
   "source": [
    "s1.reshape(8,1)"
   ]
  },
  {
   "cell_type": "code",
   "execution_count": 46,
   "id": "c2fd02d4",
   "metadata": {},
   "outputs": [
    {
     "data": {
      "text/plain": [
       "array([[11, 22],\n",
       "       [33, 44],\n",
       "       [55, 66],\n",
       "       [77, 88]])"
      ]
     },
     "execution_count": 46,
     "metadata": {},
     "output_type": "execute_result"
    }
   ],
   "source": [
    "ar2=np.array([[11,22,33,44],[55,66,77,88]])\n",
    "ar2.reshape(4,2)"
   ]
  },
  {
   "cell_type": "code",
   "execution_count": 47,
   "id": "78cf9e39",
   "metadata": {},
   "outputs": [
    {
     "data": {
      "text/plain": [
       "array([[11, 22, 33, 44],\n",
       "       [55, 66, 77, 88]])"
      ]
     },
     "execution_count": 47,
     "metadata": {},
     "output_type": "execute_result"
    }
   ],
   "source": [
    "ar2.reshape(2,4)"
   ]
  },
  {
   "cell_type": "code",
   "execution_count": 48,
   "id": "4da9b8f5",
   "metadata": {},
   "outputs": [
    {
     "data": {
      "text/plain": [
       "array([[11, 22, 33, 44, 55, 66, 77, 88]])"
      ]
     },
     "execution_count": 48,
     "metadata": {},
     "output_type": "execute_result"
    }
   ],
   "source": [
    "ar2.reshape(1,8)"
   ]
  },
  {
   "cell_type": "code",
   "execution_count": 49,
   "id": "3ec39572",
   "metadata": {},
   "outputs": [
    {
     "data": {
      "text/plain": [
       "array([[11],\n",
       "       [22],\n",
       "       [33],\n",
       "       [44],\n",
       "       [55],\n",
       "       [66],\n",
       "       [77],\n",
       "       [88]])"
      ]
     },
     "execution_count": 49,
     "metadata": {},
     "output_type": "execute_result"
    }
   ],
   "source": [
    "ar2.reshape(8,1)"
   ]
  },
  {
   "cell_type": "code",
   "execution_count": 51,
   "id": "799ea506",
   "metadata": {},
   "outputs": [
    {
     "data": {
      "text/plain": [
       "array([[ 1,  2,  3,  4],\n",
       "       [ 5,  6,  7,  8],\n",
       "       [ 9, 10, 11, 12]])"
      ]
     },
     "execution_count": 51,
     "metadata": {},
     "output_type": "execute_result"
    }
   ],
   "source": [
    "ar3=np.array([[[1,2,3],[4,5,6],[7,8,9],[10,11,12]]])\n",
    "ar3.reshape(3,4)"
   ]
  },
  {
   "cell_type": "code",
   "execution_count": 52,
   "id": "ae7ceccd",
   "metadata": {},
   "outputs": [
    {
     "data": {
      "text/plain": [
       "array([[ 1,  2,  3],\n",
       "       [ 4,  5,  6],\n",
       "       [ 7,  8,  9],\n",
       "       [10, 11, 12]])"
      ]
     },
     "execution_count": 52,
     "metadata": {},
     "output_type": "execute_result"
    }
   ],
   "source": [
    "ar3.reshape(4,3)"
   ]
  },
  {
   "cell_type": "code",
   "execution_count": 55,
   "id": "48dd2742",
   "metadata": {},
   "outputs": [
    {
     "data": {
      "text/plain": [
       "array([[ 1,  2],\n",
       "       [ 3,  4],\n",
       "       [ 5,  6],\n",
       "       [ 7,  8],\n",
       "       [ 9, 10],\n",
       "       [11, 12]])"
      ]
     },
     "execution_count": 55,
     "metadata": {},
     "output_type": "execute_result"
    }
   ],
   "source": [
    "ar3.reshape(6,2)"
   ]
  },
  {
   "cell_type": "code",
   "execution_count": 56,
   "id": "68b5f25b",
   "metadata": {},
   "outputs": [
    {
     "data": {
      "text/plain": [
       "array([[ 1,  2,  3,  4,  5,  6],\n",
       "       [ 7,  8,  9, 10, 11, 12]])"
      ]
     },
     "execution_count": 56,
     "metadata": {},
     "output_type": "execute_result"
    }
   ],
   "source": [
    "ar3.reshape(2,6)"
   ]
  },
  {
   "cell_type": "code",
   "execution_count": 57,
   "id": "9ac11959",
   "metadata": {},
   "outputs": [
    {
     "data": {
      "text/plain": [
       "array([[ 1,  2,  3,  4,  5,  6,  7,  8,  9, 10, 11, 12]])"
      ]
     },
     "execution_count": 57,
     "metadata": {},
     "output_type": "execute_result"
    }
   ],
   "source": [
    "ar3.reshape(1,12)"
   ]
  },
  {
   "cell_type": "code",
   "execution_count": 58,
   "id": "e9f39db7",
   "metadata": {},
   "outputs": [
    {
     "data": {
      "text/plain": [
       "array([[ 1],\n",
       "       [ 2],\n",
       "       [ 3],\n",
       "       [ 4],\n",
       "       [ 5],\n",
       "       [ 6],\n",
       "       [ 7],\n",
       "       [ 8],\n",
       "       [ 9],\n",
       "       [10],\n",
       "       [11],\n",
       "       [12]])"
      ]
     },
     "execution_count": 58,
     "metadata": {},
     "output_type": "execute_result"
    }
   ],
   "source": [
    "ar3.reshape(12,1)"
   ]
  },
  {
   "cell_type": "code",
   "execution_count": 59,
   "id": "1616411c",
   "metadata": {},
   "outputs": [],
   "source": [
    "# split"
   ]
  },
  {
   "cell_type": "code",
   "execution_count": 60,
   "id": "645fb318",
   "metadata": {},
   "outputs": [
    {
     "data": {
      "text/plain": [
       "[array([1]), array([2]), array([3])]"
      ]
     },
     "execution_count": 60,
     "metadata": {},
     "output_type": "execute_result"
    }
   ],
   "source": [
    "arr=np.array([1,2,3])\n",
    "np.array_split(arr,3)"
   ]
  },
  {
   "cell_type": "code",
   "execution_count": 61,
   "id": "4a3bc4e0",
   "metadata": {},
   "outputs": [
    {
     "data": {
      "text/plain": [
       "[array([1, 2]), array([3])]"
      ]
     },
     "execution_count": 61,
     "metadata": {},
     "output_type": "execute_result"
    }
   ],
   "source": [
    "np.array_split(arr,2)"
   ]
  },
  {
   "cell_type": "code",
   "execution_count": 62,
   "id": "bb0b5639",
   "metadata": {},
   "outputs": [
    {
     "data": {
      "text/plain": [
       "[array([1]), array([2]), array([3]), array([], dtype=int32)]"
      ]
     },
     "execution_count": 62,
     "metadata": {},
     "output_type": "execute_result"
    }
   ],
   "source": [
    "np.array_split(arr,4)"
   ]
  },
  {
   "cell_type": "code",
   "execution_count": 64,
   "id": "6f083181",
   "metadata": {},
   "outputs": [
    {
     "name": "stdout",
     "output_type": "stream",
     "text": [
      "[array([1]), array([2]), array([3]), array([], dtype=int32), array([], dtype=int32), array([], dtype=int32)]\n"
     ]
    }
   ],
   "source": [
    "print(np.array_split(arr,6))"
   ]
  },
  {
   "cell_type": "code",
   "execution_count": 65,
   "id": "1fc76f09",
   "metadata": {},
   "outputs": [
    {
     "name": "stdout",
     "output_type": "stream",
     "text": [
      "[array([1, 2]), array([3, 4]), array([5, 6]), array([7, 8]), array([9])]\n"
     ]
    }
   ],
   "source": [
    "ar1=np.array([1,2,3,4,5,6,7,8,9])\n",
    "print(np.array_split(ar1,5))"
   ]
  },
  {
   "cell_type": "code",
   "execution_count": 66,
   "id": "957a0bb6",
   "metadata": {},
   "outputs": [
    {
     "name": "stdout",
     "output_type": "stream",
     "text": [
      "[array([1, 2, 3]), array([4, 5]), array([6, 7]), array([8, 9])]\n"
     ]
    }
   ],
   "source": [
    "print(np.array_split(ar1,4))"
   ]
  },
  {
   "cell_type": "code",
   "execution_count": 67,
   "id": "52f83bb9",
   "metadata": {},
   "outputs": [
    {
     "name": "stdout",
     "output_type": "stream",
     "text": [
      "[array([1, 2]), array([3, 4]), array([5]), array([6]), array([7]), array([8]), array([9])]\n"
     ]
    }
   ],
   "source": [
    "print(np.array_split(ar1,7))"
   ]
  },
  {
   "cell_type": "code",
   "execution_count": 68,
   "id": "409aaab1",
   "metadata": {},
   "outputs": [
    {
     "name": "stdout",
     "output_type": "stream",
     "text": [
      "[array([1]), array([2]), array([3]), array([4]), array([5]), array([6]), array([7]), array([8]), array([9])]\n"
     ]
    }
   ],
   "source": [
    "print(np.array_split(ar1,9))"
   ]
  },
  {
   "cell_type": "code",
   "execution_count": 69,
   "id": "03e7a44a",
   "metadata": {},
   "outputs": [
    {
     "name": "stdout",
     "output_type": "stream",
     "text": [
      "[array([[1, 2, 3]]), array([[4, 5, 6]]), array([], shape=(0, 3), dtype=int32), array([], shape=(0, 3), dtype=int32)]\n"
     ]
    }
   ],
   "source": [
    "ar2=np.array([[1,2,3],[4,5,6]])\n",
    "print(np.array_split(ar2,4))"
   ]
  },
  {
   "cell_type": "code",
   "execution_count": 74,
   "id": "0383123a",
   "metadata": {},
   "outputs": [
    {
     "name": "stdout",
     "output_type": "stream",
     "text": [
      "[array([[1, 2, 3]]), array([[4, 5, 6]]), array([], shape=(0, 3), dtype=int32), array([], shape=(0, 3), dtype=int32), array([], shape=(0, 3), dtype=int32), array([], shape=(0, 3), dtype=int32)]\n"
     ]
    }
   ],
   "source": [
    "print(np.array_split(ar2,6))"
   ]
  },
  {
   "cell_type": "code",
   "execution_count": 75,
   "id": "4cca2df4",
   "metadata": {},
   "outputs": [
    {
     "name": "stdout",
     "output_type": "stream",
     "text": [
      "[array([[1, 2, 3]]), array([[4, 5, 6]]), array([], shape=(0, 3), dtype=int32)]\n"
     ]
    }
   ],
   "source": [
    "print(np.array_split(ar2,3))"
   ]
  },
  {
   "cell_type": "code",
   "execution_count": 78,
   "id": "6288bebf",
   "metadata": {},
   "outputs": [
    {
     "name": "stdout",
     "output_type": "stream",
     "text": [
      "[array([[[ 1,  2,  3],\n",
      "        [ 4,  5,  6],\n",
      "        [ 7,  8,  9],\n",
      "        [10, 11, 22]]]), array([], shape=(0, 4, 3), dtype=int32)]\n"
     ]
    }
   ],
   "source": [
    "ar3=np.array([[[1,2,3],[4,5,6],[7,8,9],[10,11,22]]])\n",
    "print(np.array_split(ar3,2))"
   ]
  },
  {
   "cell_type": "code",
   "execution_count": 79,
   "id": "f4f556c8",
   "metadata": {},
   "outputs": [
    {
     "name": "stdout",
     "output_type": "stream",
     "text": [
      "[array([[[ 1,  2,  3],\n",
      "        [ 4,  5,  6],\n",
      "        [ 7,  8,  9],\n",
      "        [10, 11, 22]]]), array([], shape=(0, 4, 3), dtype=int32), array([], shape=(0, 4, 3), dtype=int32), array([], shape=(0, 4, 3), dtype=int32)]\n"
     ]
    }
   ],
   "source": [
    "print(np.array_split(ar3,4))"
   ]
  },
  {
   "cell_type": "code",
   "execution_count": 80,
   "id": "0113f1d3",
   "metadata": {},
   "outputs": [
    {
     "name": "stdout",
     "output_type": "stream",
     "text": [
      "[array([[[ 1,  2,  3],\n",
      "        [ 4,  5,  6],\n",
      "        [ 7,  8,  9],\n",
      "        [10, 11, 22]]]), array([], shape=(0, 4, 3), dtype=int32), array([], shape=(0, 4, 3), dtype=int32)]\n"
     ]
    }
   ],
   "source": [
    "print(np.array_split(ar3,3))"
   ]
  },
  {
   "cell_type": "code",
   "execution_count": 81,
   "id": "b1d4d6fa",
   "metadata": {},
   "outputs": [
    {
     "name": "stdout",
     "output_type": "stream",
     "text": [
      "[array([[[ 1,  2,  3],\n",
      "        [ 4,  5,  6],\n",
      "        [ 7,  8,  9],\n",
      "        [10, 11, 22]]]), array([], shape=(0, 4, 3), dtype=int32), array([], shape=(0, 4, 3), dtype=int32), array([], shape=(0, 4, 3), dtype=int32), array([], shape=(0, 4, 3), dtype=int32), array([], shape=(0, 4, 3), dtype=int32), array([], shape=(0, 4, 3), dtype=int32), array([], shape=(0, 4, 3), dtype=int32), array([], shape=(0, 4, 3), dtype=int32), array([], shape=(0, 4, 3), dtype=int32), array([], shape=(0, 4, 3), dtype=int32), array([], shape=(0, 4, 3), dtype=int32)]\n"
     ]
    }
   ],
   "source": [
    "print(np.array_split(ar3,12))"
   ]
  },
  {
   "cell_type": "code",
   "execution_count": 82,
   "id": "eb745825",
   "metadata": {},
   "outputs": [],
   "source": [
    "# where"
   ]
  },
  {
   "cell_type": "code",
   "execution_count": 84,
   "id": "50a89010",
   "metadata": {},
   "outputs": [
    {
     "name": "stdout",
     "output_type": "stream",
     "text": [
      "(array([4], dtype=int64),)\n"
     ]
    }
   ],
   "source": [
    "a=np.array([1,2,3,4,5,6,7,8,9])\n",
    "print(np.where(a==5))"
   ]
  },
  {
   "cell_type": "code",
   "execution_count": 85,
   "id": "1fd28e5d",
   "metadata": {},
   "outputs": [
    {
     "name": "stdout",
     "output_type": "stream",
     "text": [
      "(array([7], dtype=int64),)\n"
     ]
    }
   ],
   "source": [
    "print(np.where(a==8))"
   ]
  },
  {
   "cell_type": "code",
   "execution_count": 86,
   "id": "8db617bb",
   "metadata": {},
   "outputs": [
    {
     "name": "stdout",
     "output_type": "stream",
     "text": [
      "Enter the value : 77\n",
      "(array([6], dtype=int64),)\n"
     ]
    }
   ],
   "source": [
    "ar=np.array([11,22,33,44,55,66,77,88,99])\n",
    "n=int(input(\"Enter the value : \"))\n",
    "print(np.where(ar==n))"
   ]
  },
  {
   "cell_type": "code",
   "execution_count": 87,
   "id": "a22cb618",
   "metadata": {},
   "outputs": [
    {
     "name": "stdout",
     "output_type": "stream",
     "text": [
      "Enter the value : 100\n",
      "(array([], dtype=int64),)\n"
     ]
    }
   ],
   "source": [
    "ar=np.array([11,22,33,44,55,66,77,88,99])\n",
    "n=int(input(\"Enter the value : \"))\n",
    "print(np.where(ar==n))"
   ]
  },
  {
   "cell_type": "code",
   "execution_count": 88,
   "id": "5867f268",
   "metadata": {},
   "outputs": [
    {
     "data": {
      "text/plain": [
       "(array([0], dtype=int64), array([0], dtype=int64))"
      ]
     },
     "execution_count": 88,
     "metadata": {},
     "output_type": "execute_result"
    }
   ],
   "source": [
    "arr=np.array([[455,789,321,852],[489,741,963,357]])\n",
    "np.where(arr==455)"
   ]
  },
  {
   "cell_type": "code",
   "execution_count": 89,
   "id": "0ab01a8f",
   "metadata": {},
   "outputs": [
    {
     "data": {
      "text/plain": [
       "(array([1], dtype=int64), array([1], dtype=int64))"
      ]
     },
     "execution_count": 89,
     "metadata": {},
     "output_type": "execute_result"
    }
   ],
   "source": [
    "np.where(arr==741)"
   ]
  },
  {
   "cell_type": "code",
   "execution_count": 90,
   "id": "ecf24d09",
   "metadata": {},
   "outputs": [
    {
     "data": {
      "text/plain": [
       "(array([1], dtype=int64), array([2], dtype=int64))"
      ]
     },
     "execution_count": 90,
     "metadata": {},
     "output_type": "execute_result"
    }
   ],
   "source": [
    "np.where(arr==963)"
   ]
  },
  {
   "cell_type": "code",
   "execution_count": 91,
   "id": "74ef0c42",
   "metadata": {},
   "outputs": [],
   "source": [
    "arr3=np.array([[[258,456,753,951],[444,785,985,325]],[[159,999,746,364],[666,555,627,391]]])"
   ]
  },
  {
   "cell_type": "code",
   "execution_count": 92,
   "id": "3035952c",
   "metadata": {},
   "outputs": [
    {
     "name": "stdout",
     "output_type": "stream",
     "text": [
      "3\n"
     ]
    }
   ],
   "source": [
    "print(arr3.ndim)"
   ]
  },
  {
   "cell_type": "code",
   "execution_count": 93,
   "id": "25fe38fb",
   "metadata": {},
   "outputs": [
    {
     "data": {
      "text/plain": [
       "(array([1], dtype=int64), array([0], dtype=int64), array([2], dtype=int64))"
      ]
     },
     "execution_count": 93,
     "metadata": {},
     "output_type": "execute_result"
    }
   ],
   "source": [
    "np.where(arr3==746)"
   ]
  },
  {
   "cell_type": "code",
   "execution_count": 94,
   "id": "be6b8e7b",
   "metadata": {},
   "outputs": [
    {
     "data": {
      "text/plain": [
       "(array([1], dtype=int64), array([1], dtype=int64), array([2], dtype=int64))"
      ]
     },
     "execution_count": 94,
     "metadata": {},
     "output_type": "execute_result"
    }
   ],
   "source": [
    "np.where(arr3==627)"
   ]
  },
  {
   "cell_type": "code",
   "execution_count": 95,
   "id": "0109da77",
   "metadata": {},
   "outputs": [],
   "source": [
    "# sort"
   ]
  },
  {
   "cell_type": "code",
   "execution_count": 96,
   "id": "11517c69",
   "metadata": {},
   "outputs": [
    {
     "data": {
      "text/plain": [
       "array([   1,    5,   65,  700,  852,  963,  984,  987, 2637])"
      ]
     },
     "execution_count": 96,
     "metadata": {},
     "output_type": "execute_result"
    }
   ],
   "source": [
    "ar1=np.array([700,852,963,1,5,987,65,2637,984])\n",
    "np.sort(ar1)"
   ]
  },
  {
   "cell_type": "code",
   "execution_count": 97,
   "id": "0a4888fe",
   "metadata": {},
   "outputs": [
    {
     "data": {
      "text/plain": [
       "array([2637,  987,  984,  963,  852,  700,   65,    5,    1])"
      ]
     },
     "execution_count": 97,
     "metadata": {},
     "output_type": "execute_result"
    }
   ],
   "source": [
    "np.sort(ar1)[::-1]"
   ]
  },
  {
   "cell_type": "code",
   "execution_count": 98,
   "id": "0219076a",
   "metadata": {},
   "outputs": [
    {
     "data": {
      "text/plain": [
       "array([[ 1,  3,  5,  7,  8],\n",
       "       [ 3, 24, 47, 65, 98],\n",
       "       [11, 46, 55, 78, 99]])"
      ]
     },
     "execution_count": 98,
     "metadata": {},
     "output_type": "execute_result"
    }
   ],
   "source": [
    "ar2=np.array([[1,3,5,7,8],[47,98,65,3,24],[78,99,55,11,46]])\n",
    "np.sort(ar2)"
   ]
  },
  {
   "cell_type": "code",
   "execution_count": 99,
   "id": "4b6075d0",
   "metadata": {},
   "outputs": [
    {
     "data": {
      "text/plain": [
       "array([[11, 46, 55, 78, 99],\n",
       "       [ 3, 24, 47, 65, 98],\n",
       "       [ 1,  3,  5,  7,  8]])"
      ]
     },
     "execution_count": 99,
     "metadata": {},
     "output_type": "execute_result"
    }
   ],
   "source": [
    "np.sort(ar2)[::-1]"
   ]
  }
 ],
 "metadata": {
  "kernelspec": {
   "display_name": "Python 3 (ipykernel)",
   "language": "python",
   "name": "python3"
  },
  "language_info": {
   "codemirror_mode": {
    "name": "ipython",
    "version": 3
   },
   "file_extension": ".py",
   "mimetype": "text/x-python",
   "name": "python",
   "nbconvert_exporter": "python",
   "pygments_lexer": "ipython3",
   "version": "3.9.7"
  }
 },
 "nbformat": 4,
 "nbformat_minor": 5
}
